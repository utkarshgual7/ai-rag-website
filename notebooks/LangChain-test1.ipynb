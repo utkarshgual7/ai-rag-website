{
 "cells": [
  {
   "cell_type": "code",
   "execution_count": 14,
   "metadata": {},
   "outputs": [
    {
     "name": "stdout",
     "output_type": "stream",
     "text": [
      "Requirement already satisfied: python-dotenv in c:\\users\\abhinav\\appdata\\local\\programs\\python\\python312\\lib\\site-packages (1.0.1)Note: you may need to restart the kernel to use updated packages.\n",
      "\n",
      "Requirement already satisfied: langchain_core in c:\\users\\abhinav\\appdata\\local\\programs\\python\\python312\\lib\\site-packages (0.3.34)\n",
      "Collecting langchain_google_genai\n",
      "  Downloading langchain_google_genai-2.0.9-py3-none-any.whl.metadata (3.6 kB)\n",
      "Requirement already satisfied: langsmith<0.4,>=0.1.125 in c:\\users\\abhinav\\appdata\\local\\programs\\python\\python312\\lib\\site-packages (from langchain_core) (0.3.6)\n",
      "Requirement already satisfied: tenacity!=8.4.0,<10.0.0,>=8.1.0 in c:\\users\\abhinav\\appdata\\local\\programs\\python\\python312\\lib\\site-packages (from langchain_core) (8.5.0)\n",
      "Requirement already satisfied: jsonpatch<2.0,>=1.33 in c:\\users\\abhinav\\appdata\\local\\programs\\python\\python312\\lib\\site-packages (from langchain_core) (1.33)\n",
      "Requirement already satisfied: PyYAML>=5.3 in c:\\users\\abhinav\\appdata\\local\\programs\\python\\python312\\lib\\site-packages (from langchain_core) (6.0.2)\n",
      "Requirement already satisfied: packaging<25,>=23.2 in c:\\users\\abhinav\\appdata\\local\\programs\\python\\python312\\lib\\site-packages (from langchain_core) (24.2)\n",
      "Requirement already satisfied: typing-extensions>=4.7 in c:\\users\\abhinav\\appdata\\local\\programs\\python\\python312\\lib\\site-packages (from langchain_core) (4.12.2)\n",
      "Requirement already satisfied: pydantic<3.0.0,>=2.7.4 in c:\\users\\abhinav\\appdata\\local\\programs\\python\\python312\\lib\\site-packages (from langchain_core) (2.10.2)\n",
      "Collecting filetype<2.0.0,>=1.2.0 (from langchain_google_genai)\n",
      "  Downloading filetype-1.2.0-py2.py3-none-any.whl.metadata (6.5 kB)\n",
      "Collecting google-generativeai<0.9.0,>=0.8.0 (from langchain_google_genai)\n",
      "  Downloading google_generativeai-0.8.4-py3-none-any.whl.metadata (4.2 kB)\n",
      "Collecting google-ai-generativelanguage==0.6.15 (from google-generativeai<0.9.0,>=0.8.0->langchain_google_genai)\n",
      "  Downloading google_ai_generativelanguage-0.6.15-py3-none-any.whl.metadata (5.7 kB)\n",
      "Collecting google-api-core (from google-generativeai<0.9.0,>=0.8.0->langchain_google_genai)\n",
      "  Downloading google_api_core-2.24.1-py3-none-any.whl.metadata (3.0 kB)\n",
      "Collecting google-api-python-client (from google-generativeai<0.9.0,>=0.8.0->langchain_google_genai)\n",
      "  Downloading google_api_python_client-2.160.0-py2.py3-none-any.whl.metadata (6.7 kB)\n",
      "Collecting google-auth>=2.15.0 (from google-generativeai<0.9.0,>=0.8.0->langchain_google_genai)\n",
      "  Downloading google_auth-2.38.0-py2.py3-none-any.whl.metadata (4.8 kB)\n",
      "Requirement already satisfied: protobuf in c:\\users\\abhinav\\appdata\\local\\programs\\python\\python312\\lib\\site-packages (from google-generativeai<0.9.0,>=0.8.0->langchain_google_genai) (3.20.2)\n",
      "Requirement already satisfied: tqdm in c:\\users\\abhinav\\appdata\\local\\programs\\python\\python312\\lib\\site-packages (from google-generativeai<0.9.0,>=0.8.0->langchain_google_genai) (4.66.5)\n",
      "Collecting proto-plus<2.0.0dev,>=1.22.3 (from google-ai-generativelanguage==0.6.15->google-generativeai<0.9.0,>=0.8.0->langchain_google_genai)\n",
      "  Downloading proto_plus-1.26.0-py3-none-any.whl.metadata (2.2 kB)\n",
      "Requirement already satisfied: jsonpointer>=1.9 in c:\\users\\abhinav\\appdata\\local\\programs\\python\\python312\\lib\\site-packages (from jsonpatch<2.0,>=1.33->langchain_core) (3.0.0)\n",
      "Requirement already satisfied: httpx<1,>=0.23.0 in c:\\users\\abhinav\\appdata\\local\\programs\\python\\python312\\lib\\site-packages (from langsmith<0.4,>=0.1.125->langchain_core) (0.28.1)\n",
      "Requirement already satisfied: orjson<4.0.0,>=3.9.14 in c:\\users\\abhinav\\appdata\\local\\programs\\python\\python312\\lib\\site-packages (from langsmith<0.4,>=0.1.125->langchain_core) (3.10.15)\n",
      "Requirement already satisfied: requests<3,>=2 in c:\\users\\abhinav\\appdata\\local\\programs\\python\\python312\\lib\\site-packages (from langsmith<0.4,>=0.1.125->langchain_core) (2.32.3)\n",
      "Requirement already satisfied: requests-toolbelt<2.0.0,>=1.0.0 in c:\\users\\abhinav\\appdata\\local\\programs\\python\\python312\\lib\\site-packages (from langsmith<0.4,>=0.1.125->langchain_core) (1.0.0)\n",
      "Requirement already satisfied: zstandard<0.24.0,>=0.23.0 in c:\\users\\abhinav\\appdata\\local\\programs\\python\\python312\\lib\\site-packages (from langsmith<0.4,>=0.1.125->langchain_core) (0.23.0)\n",
      "Requirement already satisfied: annotated-types>=0.6.0 in c:\\users\\abhinav\\appdata\\local\\programs\\python\\python312\\lib\\site-packages (from pydantic<3.0.0,>=2.7.4->langchain_core) (0.7.0)\n",
      "Requirement already satisfied: pydantic-core==2.27.1 in c:\\users\\abhinav\\appdata\\local\\programs\\python\\python312\\lib\\site-packages (from pydantic<3.0.0,>=2.7.4->langchain_core) (2.27.1)\n",
      "Collecting googleapis-common-protos<2.0.dev0,>=1.56.2 (from google-api-core->google-generativeai<0.9.0,>=0.8.0->langchain_google_genai)\n",
      "  Using cached googleapis_common_protos-1.66.0-py2.py3-none-any.whl.metadata (1.5 kB)\n",
      "Requirement already satisfied: cachetools<6.0,>=2.0.0 in c:\\users\\abhinav\\appdata\\local\\programs\\python\\python312\\lib\\site-packages (from google-auth>=2.15.0->google-generativeai<0.9.0,>=0.8.0->langchain_google_genai) (5.5.0)\n",
      "Collecting pyasn1-modules>=0.2.1 (from google-auth>=2.15.0->google-generativeai<0.9.0,>=0.8.0->langchain_google_genai)\n",
      "  Using cached pyasn1_modules-0.4.1-py3-none-any.whl.metadata (3.5 kB)\n",
      "Collecting rsa<5,>=3.1.4 (from google-auth>=2.15.0->google-generativeai<0.9.0,>=0.8.0->langchain_google_genai)\n",
      "  Using cached rsa-4.9-py3-none-any.whl.metadata (4.2 kB)\n",
      "Requirement already satisfied: anyio in c:\\users\\abhinav\\appdata\\local\\programs\\python\\python312\\lib\\site-packages (from httpx<1,>=0.23.0->langsmith<0.4,>=0.1.125->langchain_core) (4.6.2.post1)\n",
      "Requirement already satisfied: certifi in c:\\users\\abhinav\\appdata\\local\\programs\\python\\python312\\lib\\site-packages (from httpx<1,>=0.23.0->langsmith<0.4,>=0.1.125->langchain_core) (2024.8.30)\n",
      "Requirement already satisfied: httpcore==1.* in c:\\users\\abhinav\\appdata\\local\\programs\\python\\python312\\lib\\site-packages (from httpx<1,>=0.23.0->langsmith<0.4,>=0.1.125->langchain_core) (1.0.7)\n",
      "Requirement already satisfied: idna in c:\\users\\abhinav\\appdata\\local\\programs\\python\\python312\\lib\\site-packages (from httpx<1,>=0.23.0->langsmith<0.4,>=0.1.125->langchain_core) (3.8)\n",
      "Requirement already satisfied: h11<0.15,>=0.13 in c:\\users\\abhinav\\appdata\\local\\programs\\python\\python312\\lib\\site-packages (from httpcore==1.*->httpx<1,>=0.23.0->langsmith<0.4,>=0.1.125->langchain_core) (0.14.0)\n",
      "Requirement already satisfied: charset-normalizer<4,>=2 in c:\\users\\abhinav\\appdata\\local\\programs\\python\\python312\\lib\\site-packages (from requests<3,>=2->langsmith<0.4,>=0.1.125->langchain_core) (3.3.2)\n",
      "Requirement already satisfied: urllib3<3,>=1.21.1 in c:\\users\\abhinav\\appdata\\local\\programs\\python\\python312\\lib\\site-packages (from requests<3,>=2->langsmith<0.4,>=0.1.125->langchain_core) (2.2.3)\n",
      "Collecting httplib2<1.dev0,>=0.19.0 (from google-api-python-client->google-generativeai<0.9.0,>=0.8.0->langchain_google_genai)\n",
      "  Using cached httplib2-0.22.0-py3-none-any.whl.metadata (2.6 kB)\n",
      "Collecting google-auth-httplib2<1.0.0,>=0.2.0 (from google-api-python-client->google-generativeai<0.9.0,>=0.8.0->langchain_google_genai)\n",
      "  Using cached google_auth_httplib2-0.2.0-py2.py3-none-any.whl.metadata (2.2 kB)\n",
      "Collecting uritemplate<5,>=3.0.1 (from google-api-python-client->google-generativeai<0.9.0,>=0.8.0->langchain_google_genai)\n",
      "  Using cached uritemplate-4.1.1-py2.py3-none-any.whl.metadata (2.9 kB)\n",
      "Requirement already satisfied: colorama in c:\\users\\abhinav\\appdata\\roaming\\python\\python312\\site-packages (from tqdm->google-generativeai<0.9.0,>=0.8.0->langchain_google_genai) (0.4.6)\n",
      "Requirement already satisfied: grpcio<2.0dev,>=1.33.2 in c:\\users\\abhinav\\appdata\\local\\programs\\python\\python312\\lib\\site-packages (from google-api-core[grpc]!=2.0.*,!=2.1.*,!=2.10.*,!=2.2.*,!=2.3.*,!=2.4.*,!=2.5.*,!=2.6.*,!=2.7.*,!=2.8.*,!=2.9.*,<3.0.0dev,>=1.34.1->google-ai-generativelanguage==0.6.15->google-generativeai<0.9.0,>=0.8.0->langchain_google_genai) (1.66.1)\n",
      "Collecting grpcio-status<2.0.dev0,>=1.33.2 (from google-api-core[grpc]!=2.0.*,!=2.1.*,!=2.10.*,!=2.2.*,!=2.3.*,!=2.4.*,!=2.5.*,!=2.6.*,!=2.7.*,!=2.8.*,!=2.9.*,<3.0.0dev,>=1.34.1->google-ai-generativelanguage==0.6.15->google-generativeai<0.9.0,>=0.8.0->langchain_google_genai)\n",
      "  Downloading grpcio_status-1.70.0-py3-none-any.whl.metadata (1.1 kB)\n",
      "Requirement already satisfied: pyparsing!=3.0.0,!=3.0.1,!=3.0.2,!=3.0.3,<4,>=2.4.2 in c:\\users\\abhinav\\appdata\\local\\programs\\python\\python312\\lib\\site-packages (from httplib2<1.dev0,>=0.19.0->google-api-python-client->google-generativeai<0.9.0,>=0.8.0->langchain_google_genai) (3.1.4)\n",
      "Collecting pyasn1<0.7.0,>=0.4.6 (from pyasn1-modules>=0.2.1->google-auth>=2.15.0->google-generativeai<0.9.0,>=0.8.0->langchain_google_genai)\n",
      "  Using cached pyasn1-0.6.1-py3-none-any.whl.metadata (8.4 kB)\n",
      "Requirement already satisfied: sniffio>=1.1 in c:\\users\\abhinav\\appdata\\local\\programs\\python\\python312\\lib\\site-packages (from anyio->httpx<1,>=0.23.0->langsmith<0.4,>=0.1.125->langchain_core) (1.3.1)\n",
      "Collecting protobuf (from google-generativeai<0.9.0,>=0.8.0->langchain_google_genai)\n",
      "  Downloading protobuf-5.29.3-cp310-abi3-win_amd64.whl.metadata (592 bytes)\n",
      "Collecting grpcio<2.0dev,>=1.33.2 (from google-api-core[grpc]!=2.0.*,!=2.1.*,!=2.10.*,!=2.2.*,!=2.3.*,!=2.4.*,!=2.5.*,!=2.6.*,!=2.7.*,!=2.8.*,!=2.9.*,<3.0.0dev,>=1.34.1->google-ai-generativelanguage==0.6.15->google-generativeai<0.9.0,>=0.8.0->langchain_google_genai)\n",
      "  Downloading grpcio-1.70.0-cp312-cp312-win_amd64.whl.metadata (4.0 kB)\n",
      "Downloading langchain_google_genai-2.0.9-py3-none-any.whl (41 kB)\n",
      "Downloading filetype-1.2.0-py2.py3-none-any.whl (19 kB)\n",
      "Downloading google_generativeai-0.8.4-py3-none-any.whl (175 kB)\n",
      "Downloading google_ai_generativelanguage-0.6.15-py3-none-any.whl (1.3 MB)\n",
      "   ---------------------------------------- 0.0/1.3 MB ? eta -:--:--\n",
      "   ---------------------------------------- 1.3/1.3 MB 33.3 MB/s eta 0:00:00\n",
      "Downloading google_api_core-2.24.1-py3-none-any.whl (160 kB)\n",
      "Downloading google_auth-2.38.0-py2.py3-none-any.whl (210 kB)\n",
      "Downloading google_api_python_client-2.160.0-py2.py3-none-any.whl (12.8 MB)\n",
      "   ---------------------------------------- 0.0/12.8 MB ? eta -:--:--\n",
      "   ------------------------ --------------- 7.9/12.8 MB 40.7 MB/s eta 0:00:01\n",
      "   -------------------------------- ------- 10.5/12.8 MB 27.3 MB/s eta 0:00:01\n",
      "   ------------------------------------- -- 12.1/12.8 MB 19.9 MB/s eta 0:00:01\n",
      "   ---------------------------------------- 12.8/12.8 MB 17.9 MB/s eta 0:00:00\n",
      "Using cached google_auth_httplib2-0.2.0-py2.py3-none-any.whl (9.3 kB)\n",
      "Using cached googleapis_common_protos-1.66.0-py2.py3-none-any.whl (221 kB)\n",
      "Using cached httplib2-0.22.0-py3-none-any.whl (96 kB)\n",
      "Downloading proto_plus-1.26.0-py3-none-any.whl (50 kB)\n",
      "Using cached pyasn1_modules-0.4.1-py3-none-any.whl (181 kB)\n",
      "Using cached rsa-4.9-py3-none-any.whl (34 kB)\n",
      "Using cached uritemplate-4.1.1-py2.py3-none-any.whl (10 kB)\n",
      "Downloading grpcio_status-1.70.0-py3-none-any.whl (14 kB)\n",
      "Downloading protobuf-5.29.3-cp310-abi3-win_amd64.whl (434 kB)\n",
      "Downloading grpcio-1.70.0-cp312-cp312-win_amd64.whl (4.3 MB)\n",
      "   ---------------------------------------- 0.0/4.3 MB ? eta -:--:--\n",
      "   ------------------------------- -------- 3.4/4.3 MB 16.7 MB/s eta 0:00:01\n",
      "   ---------------------------------------- 4.3/4.3 MB 17.2 MB/s eta 0:00:00\n",
      "Using cached pyasn1-0.6.1-py3-none-any.whl (83 kB)\n",
      "Installing collected packages: filetype, uritemplate, pyasn1, protobuf, httplib2, grpcio, rsa, pyasn1-modules, proto-plus, googleapis-common-protos, grpcio-status, google-auth, google-auth-httplib2, google-api-core, google-api-python-client, google-ai-generativelanguage, google-generativeai, langchain_google_genai\n",
      "  Attempting uninstall: protobuf\n",
      "    Found existing installation: protobuf 3.20.2\n",
      "    Uninstalling protobuf-3.20.2:\n",
      "      Successfully uninstalled protobuf-3.20.2\n",
      "  Attempting uninstall: grpcio\n",
      "    Found existing installation: grpcio 1.66.1\n",
      "    Uninstalling grpcio-1.66.1:\n",
      "      Successfully uninstalled grpcio-1.66.1\n",
      "Successfully installed filetype-1.2.0 google-ai-generativelanguage-0.6.15 google-api-core-2.24.1 google-api-python-client-2.160.0 google-auth-2.38.0 google-auth-httplib2-0.2.0 google-generativeai-0.8.4 googleapis-common-protos-1.66.0 grpcio-1.70.0 grpcio-status-1.70.0 httplib2-0.22.0 langchain_google_genai-2.0.9 proto-plus-1.26.0 protobuf-5.29.3 pyasn1-0.6.1 pyasn1-modules-0.4.1 rsa-4.9 uritemplate-4.1.1\n"
     ]
    },
    {
     "name": "stderr",
     "output_type": "stream",
     "text": [
      "ERROR: pip's dependency resolver does not currently take into account all the packages that are installed. This behaviour is the source of the following dependency conflicts.\n",
      "onnxconverter-common 1.14.0 requires protobuf==3.20.2, but you have protobuf 5.29.3 which is incompatible.\n",
      "tensorflow-intel 2.17.0 requires protobuf!=4.21.0,!=4.21.1,!=4.21.2,!=4.21.3,!=4.21.4,!=4.21.5,<5.0.0dev,>=3.20.3, but you have protobuf 5.29.3 which is incompatible.\n",
      "\n",
      "[notice] A new release of pip is available: 24.3.1 -> 25.0\n",
      "[notice] To update, run: python.exe -m pip install --upgrade pip\n"
     ]
    }
   ],
   "source": [
    "%pip install python-dotenv langchain_core langchain_google_genai"
   ]
  },
  {
   "cell_type": "code",
   "execution_count": 15,
   "metadata": {},
   "outputs": [],
   "source": [
    "from dotenv import load_dotenv\n",
    "import os"
   ]
  },
  {
   "cell_type": "code",
   "execution_count": 16,
   "metadata": {},
   "outputs": [
    {
     "data": {
      "text/plain": [
       "True"
      ]
     },
     "execution_count": 16,
     "metadata": {},
     "output_type": "execute_result"
    }
   ],
   "source": [
    "env_path = '../.env'\n",
    "load_dotenv(dotenv_path=env_path)"
   ]
  },
  {
   "cell_type": "code",
   "execution_count": 20,
   "metadata": {},
   "outputs": [],
   "source": [
    "GOOGLEAI_API_KEY = os.getenv(\"GOOGLE_API_KEY\")"
   ]
  },
  {
   "cell_type": "code",
   "execution_count": 21,
   "metadata": {},
   "outputs": [],
   "source": [
    "from langchain_google_genai import ChatGoogleGenerativeAI\n",
    "\n",
    "llm = ChatGoogleGenerativeAI(model=\"gemini-2.0-flash\")"
   ]
  },
  {
   "cell_type": "code",
   "execution_count": 22,
   "metadata": {},
   "outputs": [
    {
     "data": {
      "text/plain": [
       "AIMessage(content='Ah, the age-old question! There\\'s no single, universally accepted answer to the meaning of life. It\\'s a deeply personal and philosophical question that has been pondered by thinkers for centuries. Here\\'s a breakdown of some common perspectives:\\n\\n**1. Nihilism:**\\n\\n*   **Core Idea:** Life is inherently without objective meaning, purpose, or intrinsic value.\\n*   **Implication:** We are free to create our own meaning, but ultimately, nothing truly matters in the grand scheme of the universe.\\n\\n**2. Existentialism:**\\n\\n*   **Core Idea:** Existence precedes essence. We are born into the world without a predetermined purpose, and it is up to us to define our own meaning through our choices and actions.\\n*   **Implication:** We have freedom and responsibility to create our own values and live authentically.\\n\\n**3. Absurdism:**\\n\\n*   **Core Idea:** The search for meaning in a meaningless universe is inherently absurd. There\\'s a fundamental conflict between our desire for meaning and the apparent lack of it in the world.\\n*   **Implication:** Embrace the absurdity, revolt against the meaninglessness, and find joy in the present moment.\\n\\n**4. Hedonism:**\\n\\n*   **Core Idea:** Pleasure and happiness are the ultimate goals in life.\\n*   **Implication:** Maximize pleasure and minimize pain.\\n\\n**5. Eudaimonia (Aristotelian Philosophy):**\\n\\n*   **Core Idea:** Flourishing or living well. Meaning comes from developing our virtues, using our talents, and living in accordance with reason.\\n*   **Implication:** Strive for excellence, develop good character, and contribute to the well-being of society.\\n\\n**6. Religious/Spiritual Perspectives:**\\n\\n*   **Core Idea:** Meaning is derived from a higher power or purpose, often involving serving God, following religious principles, or achieving enlightenment.\\n*   **Implication:** Live according to religious teachings, seek spiritual growth, and find meaning in connection with the divine.\\n\\n**7. Humanism:**\\n\\n*   **Core Idea:** Meaning is found in human relationships, reason, ethics, and contributing to the betterment of humanity.\\n*   **Implication:** Focus on human well-being, promote social justice, and use reason and compassion to solve problems.\\n\\n**8. Meaning Through Connection and Contribution:**\\n\\n*   **Core Idea:** Finding meaning in our relationships with others, contributing to something larger than ourselves, and making a positive impact on the world.\\n*   **Implication:** Build strong relationships, engage in meaningful work, volunteer, and strive to make a difference.\\n\\n**9. Meaning is Subjective and Personal:**\\n\\n*   **Core Idea:** There is no one \"right\" answer to the meaning of life. It\\'s a deeply personal journey of discovery.\\n*   **Implication:** Explore your values, interests, and passions to create a meaning that resonates with you.\\n\\n**In Conclusion:**\\n\\nThe meaning of life is not something to be found, but rather something to be created.  It\\'s an ongoing process of exploration, reflection, and action.  Consider what brings you joy, what you value, and how you want to make your mark on the world.  The answer, ultimately, lies within you.\\n\\n**To help you start thinking about your own meaning, consider these questions:**\\n\\n*   What are you passionate about?\\n*   What do you value most in life?\\n*   What kind of impact do you want to have on the world?\\n*   What brings you joy and fulfillment?\\n*   What are you good at?\\n*   What are you curious about?\\n\\nGood luck on your journey!  It\\'s a journey worth taking.', additional_kwargs={}, response_metadata={'prompt_feedback': {'block_reason': 0, 'safety_ratings': []}, 'finish_reason': 'STOP', 'safety_ratings': []}, id='run-f021f648-ced7-4931-b633-ca68c2bb8508-0', usage_metadata={'input_tokens': 7, 'output_tokens': 788, 'total_tokens': 795, 'input_token_details': {'cache_read': 0}})"
      ]
     },
     "execution_count": 22,
     "metadata": {},
     "output_type": "execute_result"
    }
   ],
   "source": [
    "llm.invoke(\"What is the meaning of life?\")"
   ]
  },
  {
   "cell_type": "markdown",
   "metadata": {},
   "source": [
    "Prompt templating:"
   ]
  },
  {
   "cell_type": "code",
   "execution_count": 30,
   "metadata": {},
   "outputs": [],
   "source": [
    "from langchain_core.prompts import ChatPromptTemplate\n",
    "from langchain_core.output_parsers import StrOutputParser\n",
    "\n",
    "def_prompt = ChatPromptTemplate.from_messages([\n",
    "    (\"system\", \"You are a world class defense attorney.\"),\n",
    "    (\"human\", \"Can you tell me {topic}\")\n",
    "])"
   ]
  },
  {
   "cell_type": "code",
   "execution_count": 31,
   "metadata": {},
   "outputs": [
    {
     "data": {
      "text/plain": [
       "ChatPromptValue(messages=[SystemMessage(content='You are a world class defense attorney.', additional_kwargs={}, response_metadata={}), HumanMessage(content='Can you tell me Can you tell me a good defense strategy for someone accused of stealing cookies?', additional_kwargs={}, response_metadata={})])"
      ]
     },
     "execution_count": 31,
     "metadata": {},
     "output_type": "execute_result"
    }
   ],
   "source": [
    "def_prompt.invoke({\"topic\": \"Can you tell me a good defense strategy for someone accused of stealing cookies?\"})"
   ]
  },
  {
   "cell_type": "markdown",
   "metadata": {},
   "source": [
    "Chaining via pipe:"
   ]
  },
  {
   "cell_type": "code",
   "execution_count": 32,
   "metadata": {},
   "outputs": [],
   "source": [
    "chain = def_prompt | llm | StrOutputParser()"
   ]
  },
  {
   "cell_type": "code",
   "execution_count": 33,
   "metadata": {},
   "outputs": [
    {
     "data": {
      "text/plain": [
       "'Alright, let\\'s craft a defense strategy for someone accused of cookie theft. The best approach will depend on the specific facts of the case, but here are a few potential avenues we can explore, ranging from the lighthearted to the more serious:\\n\\n**I. The \"Mistaken Identity/Circumstantial Evidence\" Defense:**\\n\\n*   **Focus:** This is often the most practical and widely applicable. The goal is to create reasonable doubt that your client was the actual cookie thief.\\n*   **Key Arguments:**\\n    *   **Lack of Direct Evidence:** Emphasize that there is no direct evidence (video, eyewitness testimony, etc.) definitively placing your client at the scene of the crime *with* the cookies. Any evidence is circumstantial.\\n    *   **Mistaken Identity:**  Argue that someone else could have easily been mistaken for your client.  Do they have a similar build, clothing style, or mannerisms as someone else who was in the vicinity?  \"My client may have been *near* the cookie jar, but that doesn\\'t mean they *took* the cookies.\"\\n    *   **Timing Issues:**  Were there any gaps in the timeline?  Could someone else have had the opportunity to take the cookies during that time? \"The prosecution\\'s timeline relies on assumptions, not concrete proof.  There was a ten-minute period where *anyone* could have accessed the cookies.\"\\n    *   **Plausible Alternative Explanation:** Offer a plausible, innocent explanation for your client\\'s presence near the cookies.  \"My client was simply admiring the cookies. They were thinking about baking their own batch later that day.\"\\n*   **Example:** \"The prosecution has presented no witness who saw my client actually take the cookies. They were seen near the kitchen, yes, but so were three other people. My client was merely on their way to get a glass of milk!\"\\n\\n**II. The \"Lack of Intent\" Defense:**\\n\\n*   **Focus:** Argue that even if your client *did* take the cookies, they lacked the necessary *mens rea* (criminal intent) to be guilty of theft.\\n*   **Key Arguments:**\\n    *   **Accidental Taking:** \"My client mistakenly believed the cookies were offered freely. Perhaps there was a sign that was unclear, or they were given mixed signals.\"\\n    *   **Temporary Borrowing:** \"My client intended to return the cookies! They were simply borrowing them for a short period and planned to replace them later.\" (This works best if the cookies *were* actually returned, or if there\\'s evidence of intent to return them.)\\n    *   **Mental State:** (Use with extreme caution and only if you have supporting evidence and expert testimony) \"Due to a temporary medical condition or mental state, my client was not fully aware of their actions at the time. They were under duress/experiencing a sugar craving/sleepwalking.\"\\n*   **Example:** \"My client suffers from sleepwalking. It\\'s entirely possible they took the cookies without being conscious of their actions. They have no memory of the event.\"\\n\\n**III. The \"Entrapment\" Defense:**\\n\\n*   **Focus:** Argue that your client was induced or encouraged to steal the cookies by someone else. This is a difficult defense to prove.\\n*   **Key Arguments:**\\n    *   **Pressure/Coercion:** \"My client was pressured by others to take the cookies. They felt they had no choice but to comply.\"\\n    *   **Incitement:** \"Someone actively encouraged my client to take the cookies, knowing it was wrong, and essentially set them up to be caught.\"\\n*   **Example:** \"The alleged victim repeatedly dared my client to take a cookie, leaving them unattended and practically begging to be stolen. This constitutes entrapment.\"\\n\\n**IV. The \"Defense of Necessity\" (Very Difficult to Prove):**\\n\\n*   **Focus:** Argue that stealing the cookies was necessary to prevent a greater harm. This is a very high bar to clear.\\n*   **Key Arguments:**\\n    *   **Imminent Danger:** \"My client was suffering from a severe hypoglycemic episode and needed sugar immediately to avoid a medical emergency. The cookies were the only available source.\"\\n    *   **Reasonable Belief:** \"My client reasonably believed that taking the cookies was necessary to prevent a greater harm. They had no other options.\"\\n*   **Example:** \"My client, a diabetic, was experiencing a life-threatening low blood sugar attack. The cookies were the only source of sugar available, and taking them was necessary to save their life.\" (Requires medical documentation!)\\n\\n**V. The \"Technicality/Procedural Error\" Defense:**\\n\\n*   **Focus:** Argue that the prosecution made a mistake in the way they handled the case, rendering the evidence inadmissible or the charges invalid.\\n*   **Key Arguments:**\\n    *   **Improper Evidence Collection:** \"The cookies were obtained illegally. The cookie jar was searched without a warrant, violating my client\\'s rights.\"\\n    *   **Chain of Custody Issues:** \"The prosecution cannot prove that the cookies presented as evidence are the *same* cookies that were allegedly stolen. There are gaps in the chain of custody.\"\\n    *   **Faulty Indictment:** \"The charges against my client are vague and do not specify the exact type of cookie allegedly stolen, violating their right to know the nature of the accusation.\"\\n\\n**Important Considerations:**\\n\\n*   **Credibility:** Your client\\'s credibility is crucial. They must be believable when presenting their side of the story.\\n*   **Jury Appeal:** Consider how the jury will perceive your client and the arguments you present.\\n*   **Evidence:**  Gather as much evidence as possible to support your chosen defense strategy (witness statements, alibis, expert testimony, etc.).\\n*   **Plea Bargaining:**  Depending on the evidence, a plea bargain might be the best option to minimize potential penalties.\\n\\n**Before choosing a defense, I would need to know:**\\n\\n*   **What is the specific charge?** (Is it petty theft, larceny, etc.?)\\n*   **What is the alleged value of the cookies?** (This can impact the severity of the charge.)\\n*   **What evidence does the prosecution have?** (Eyewitnesses, video surveillance, etc.)\\n*   **What is your client\\'s version of events?**\\n*   **Does your client have a prior criminal record?**\\n\\n**Disclaimer:** This information is for general educational purposes only and does not constitute legal advice. You should consult with a qualified attorney to discuss the specific facts of your case and determine the best course of action.  And remember, even for something as seemingly trivial as cookie theft, a strong defense can make all the difference! Good luck!'"
      ]
     },
     "execution_count": 33,
     "metadata": {},
     "output_type": "execute_result"
    }
   ],
   "source": [
    "chain.invoke({\"topic\": \"Can you tell me a good defense strategy for someone accused of stealing cookies?\"})"
   ]
  },
  {
   "cell_type": "markdown",
   "metadata": {},
   "source": [
    "Streaming chunks:"
   ]
  },
  {
   "cell_type": "code",
   "execution_count": 36,
   "metadata": {},
   "outputs": [
    {
     "name": "stdout",
     "output_type": "stream",
     "text": [
      "Alright|, let's assume my client is accused of stealing cookies and the prosecution has| a case built on circumstantial evidence. My job is to create reasonable doubt in the| minds of the jury. Here's how I'd approach it:\n",
      "\n",
      "**1. Dismantling the Circumstantial Evidence, Piece by Piece:**|*   **Focus on Alternative Explanations:** The core strategy is to offer believable alternative explanations for *every* piece of circumstantial evidence.  We need to show| that the evidence, while suggestive, doesn't *necessarily* point to my client.\n",
      "\n",
      "    *   **Example:** Let's say the circumstantial evidence includes:\n",
      "        *   **Cookie crumbs on my client's shirt:**  \"|Ladies and gentlemen, my client works in a bakery! Cookie crumbs are an occupational hazard.  We will present testimony from coworkers who will attest to the ubiquitous nature of crumbs in that environment.  Furthermore, the prosecution hasn't presented any| evidence linking *these specific* crumbs to *those specific* cookies. They could be from *any* cookie.\"\n",
      "        *   **My client was seen near the cookie jar:** \"Being *near* a cookie jar is not a crime. My client was in the kitchen to get a glass of water.  |We will present evidence that the water cooler is located directly next to the cookie jar.  The prosecution is asking you to jump to conclusions based on mere proximity.\"\n",
      "        *   **The cookie jar was empty shortly after my client was in the kitchen:** \"Correlation does not equal causation. Many people were in the kitchen that| day.  The prosecution hasn't ruled out *any* other potential cookie thief. Perhaps someone else took the cookies earlier and my client simply walked in to an empty jar.  The timing is coincidental, not proof.\"\n",
      "        *   **My client has a known sweet tooth:** \"Having a sweet tooth is a common| human trait!  It doesn't make someone a thief.  The prosecution is attempting to prejudice the jury by painting my client as someone who *might* steal cookies, but 'might' is not 'did'.\"\n",
      "\n",
      "*   **Highlighting Weaknesses in the Prosecution's Evidence:**  I'd meticulously| examine the prosecution's evidence for flaws and inconsistencies.\n",
      "\n",
      "    *   **Chain of Custody:** \"How were these cookie crumbs collected?  Who handled them?  Can the prosecution definitively prove that the crumbs presented in court are the same crumbs found on my client's shirt, and that they weren't contaminated| in any way?  Gaps in the chain of custody create doubt.\"\n",
      "    *   **Witness Credibility:** \"Did the witness have a clear view? Were they biased in any way?  Did they have any reason to lie or exaggerate?  We will explore any potential motives for the witness to misremember| or misrepresent the events.\"\n",
      "    *   **Lack of Direct Evidence:** \"The prosecution has presented *no* direct evidence. No one saw my client take the cookies. There are no fingerprints on the jar. There is no confession.  This case rests entirely on assumptions and speculation.\"\n",
      "\n",
      "**2. Establishing| an Alibi (If Possible):**\n",
      "\n",
      "*   **Solid Alibi:** If my client has a verifiable alibi – meaning they were demonstrably somewhere else when the cookies were taken – this is powerful.  We'd present witnesses, receipts, security footage, or any other evidence to support the alibi.|\n",
      "*   **Weak Alibi Still Helps:** Even if the alibi isn't airtight, it can still create doubt.  \"While my client cannot definitively prove they were elsewhere, they were engaged in [activity] at the approximate time of the cookie theft.  This makes it less likely that they had the| opportunity to commit the alleged act.\"\n",
      "\n",
      "**3. Presenting Affirmative Evidence of Innocence:**\n",
      "\n",
      "*   **Good Character:**  \"My client is a person of good character.  We will present witnesses who will testify to their honesty, integrity, and lack of any prior history of theft or dishonesty.  This| is not the type of person who would steal cookies.\"\n",
      "*   **Alternative Suspects:**  Without directly accusing anyone, I might subtly introduce the possibility of other potential cookie thieves.  \"The prosecution has focused solely on my client, but were there other individuals who had access to the cookies? Did the prosecution| thoroughly investigate all possible leads?\"\n",
      "*   **Demonstrate Lack of Motive:** \"Why would my client steal cookies? Do they have a medical condition that prevents them from eating sugary foods? Were they on a diet? Did they express dislike for that type of cookie?\"\n",
      "\n",
      "**4.  The Power of Reasonable| Doubt:**\n",
      "\n",
      "*   **Emphasize the Burden of Proof:**  \"The prosecution must prove guilt *beyond a reasonable doubt*.  Not a shadow of a doubt, but a doubt based on reason and common sense.  The evidence presented is weak, speculative, and open to multiple interpretations.  If you have| *any* reasonable doubt as to my client's guilt, you are obligated to acquit.\"\n",
      "*   **Appeal to Common Sense:** \"Ladies and gentlemen, are we really going to convict someone of cookie theft based on this flimsy evidence?  This is a case built on assumptions and conjecture.  Don't let the| prosecution's speculation cloud your judgment.\"\n",
      "\n",
      "**Important Considerations:**\n",
      "\n",
      "*   **Tailor the Defense to the Specific Facts:**  The best defense is always tailored to the unique circumstances of the case.  I'd need to thoroughly investigate the facts and interview witnesses to develop the most effective strategy.\n",
      "*   |**Ethical Obligations:**  I cannot knowingly present false evidence or encourage perjury. My role is to vigorously defend my client within the bounds of the law and ethical rules.\n",
      "\n",
      "**In conclusion,** proving a negative (\"I didn't do it\") is always challenging. My approach would be to systematically undermine the prosecution's| circumstantial evidence, present alternative explanations, highlight the weaknesses in their case, and create reasonable doubt in the minds of the jury. The goal is to show that the evidence, while suggestive, does not definitively prove that my client stole the cookies.|"
     ]
    }
   ],
   "source": [
    "for chunk in chain.stream({\"topic\": \"How would you prove that someone didn’t steal the cookies when circumstantial evidence suggests otherwise?\"}):\n",
    "    print(chunk, end=\"|\")"
   ]
  },
  {
   "cell_type": "markdown",
   "metadata": {},
   "source": [
    "Alright|, let's assume my client is accused of stealing cookies and the prosecution has| a case built on circumstantial evidence. My job is to create reasonable doubt in the| minds of the jury. Here's how I'd approach it:\n",
    "\n",
    "**1. Dismantling the Circumstantial Evidence, Piece by Piece:**|*   **Focus on Alternative Explanations:** The core strategy is to offer believable alternative explanations for *every* piece of circumstantial evidence.  We need to show| that the evidence, while suggestive, doesn't *necessarily* point to my client.\n",
    "\n",
    "    *   **Example:** Let's say the circumstantial evidence includes:\n",
    "        *   **Cookie crumbs on my client's shirt:**  \"|Ladies and gentlemen, my client works in a bakery! Cookie crumbs are an occupational hazard.  We will present testimony from coworkers who will attest to the ubiquitous nature of crumbs in that environment.  Furthermore, the prosecution hasn't presented any| evidence linking *these specific* crumbs to *those specific* cookies. They could be from *any* cookie.\"\n",
    "        *   **My client was seen near the cookie jar:** \"Being *near* a cookie jar is not a crime. My client was in the kitchen to get a glass of water.  |We will present evidence that the water cooler is located directly next to the cookie jar.  The prosecution is asking you to jump to conclusions based on mere proximity.\"\n",
    "        *   **The cookie jar was empty shortly after my client was in the kitchen:** \"Correlation does not equal causation. Many people were in the kitchen that| day.  The prosecution hasn't ruled out *any* other potential cookie thief. Perhaps someone else took the cookies earlier and my client simply walked in to an empty jar.  The timing is coincidental, not proof.\"\n",
    "        *   **My client has a known sweet tooth:** \"Having a sweet tooth is a common| human trait!  It doesn't make someone a thief.  The prosecution is attempting to prejudice the jury by painting my client as someone who *might* steal cookies, but 'might' is not 'did'.\"\n",
    "\n",
    "*   **Highlighting Weaknesses in the Prosecution's Evidence:**  I'd meticulously| examine the prosecution's evidence for flaws and inconsistencies.\n",
    "\n",
    "    *   **Chain of Custody:** \"How were these cookie crumbs collected?  Who handled them?  Can the prosecution definitively prove that the crumbs presented in court are the same crumbs found on my client's shirt, and that they weren't contaminated| in any way?  Gaps in the chain of custody create doubt.\"\n",
    "    *   **Witness Credibility:** \"Did the witness have a clear view? Were they biased in any way?  Did they have any reason to lie or exaggerate?  We will explore any potential motives for the witness to misremember| or misrepresent the events.\"\n",
    "    *   **Lack of Direct Evidence:** \"The prosecution has presented *no* direct evidence. No one saw my client take the cookies. There are no fingerprints on the jar. There is no confession.  This case rests entirely on assumptions and speculation.\"\n",
    "\n",
    "**2. Establishing| an Alibi (If Possible):**\n",
    "\n",
    "*   **Solid Alibi:** If my client has a verifiable alibi – meaning they were demonstrably somewhere else when the cookies were taken – this is powerful.  We'd present witnesses, receipts, security footage, or any other evidence to support the alibi.|\n",
    "*   **Weak Alibi Still Helps:** Even if the alibi isn't airtight, it can still create doubt.  \"While my client cannot definitively prove they were elsewhere, they were engaged in [activity] at the approximate time of the cookie theft.  This makes it less likely that they had the| opportunity to commit the alleged act.\"\n",
    "\n",
    "**3. Presenting Affirmative Evidence of Innocence:**\n",
    "\n",
    "*   **Good Character:**  \"My client is a person of good character.  We will present witnesses who will testify to their honesty, integrity, and lack of any prior history of theft or dishonesty.  This| is not the type of person who would steal cookies.\"\n",
    "*   **Alternative Suspects:**  Without directly accusing anyone, I might subtly introduce the possibility of other potential cookie thieves.  \"The prosecution has focused solely on my client, but were there other individuals who had access to the cookies? Did the prosecution| thoroughly investigate all possible leads?\"\n",
    "...\n",
    "\n",
    "*   **Tailor the Defense to the Specific Facts:**  The best defense is always tailored to the unique circumstances of the case.  I'd need to thoroughly investigate the facts and interview witnesses to develop the most effective strategy.\n",
    "*   |**Ethical Obligations:**  I cannot knowingly present false evidence or encourage perjury. My role is to vigorously defend my client within the bounds of the law and ethical rules.\n",
    "\n",
    "**In conclusion,** proving a negative (\"I didn't do it\") is always challenging. My approach would be to systematically undermine the prosecution's| circumstantial evidence, present alternative explanations, highlight the weaknesses in their case, and create reasonable doubt in the minds of the jury. The goal is to show that the evidence, while suggestive, does not definitively prove that my client stole the cookies.|"
   ]
  },
  {
   "cell_type": "markdown",
   "metadata": {},
   "source": [
    "Context-aware generation:"
   ]
  },
  {
   "cell_type": "code",
   "execution_count": 37,
   "metadata": {},
   "outputs": [],
   "source": [
    "from datetime import date\n",
    "CAG_prompt = ChatPromptTemplate.from_messages([\n",
    "    (\"system\", 'You know that the current date is {date}.'),\n",
    "    (\"human\", \"{question}\")\n",
    "])"
   ]
  },
  {
   "cell_type": "code",
   "execution_count": 42,
   "metadata": {},
   "outputs": [
    {
     "data": {
      "text/plain": [
       "'From January 1st, 2025 to February 7th, 2025, there are 31 days in January and 7 days in February. So the total number of days is 31 + 7 = 38 days.'"
      ]
     },
     "execution_count": 42,
     "metadata": {},
     "output_type": "execute_result"
    }
   ],
   "source": [
    "CAG_chain = CAG_prompt | llm | StrOutputParser()\n",
    "CAG_chain.invoke({\"question\": \"How many days have passed since New Year's day till today?\", \"date\": date.today()})"
   ]
  },
  {
   "cell_type": "code",
   "execution_count": 54,
   "metadata": {},
   "outputs": [],
   "source": [
    "SOURCE_RAG_EXP1 = \"\"\"\n",
    "Phoenix Inc. 2024 R&D initiatives, performance metrics, and financial details:\n",
    "\n",
    "- Q1: \n",
    "  - Developed an AI-powered analytics tool that enhanced client decision-making capabilities, leading to a 20% reduction in operational costs for clients.\n",
    "  - Conducted 50+ research papers on emerging machine learning algorithms.\n",
    "  - Budget: $125,000, Revenue Generated: $300,000\n",
    "  - Key Metrics: 15 new patents filed, 100 client demos conducted, 5 collaborations initiated.\n",
    "\n",
    "- Q2:\n",
    "  - Released the beta version of a cloud-based collaboration platform, which garnered 10,000 early users, of which 20% converted to premium subscriptions.\n",
    "  - Developed machine learning models for demand forecasting in supply chains, improving forecast accuracy by 35%.\n",
    "  - Budget: $210,000, Revenue Generated: $450,000\n",
    "  - Key Metrics: 50% user satisfaction, 200+ features requested by beta testers, 2 new strategic partnerships.\n",
    "\n",
    "- Q3:\n",
    "  - Overhauled cybersecurity systems with AI-driven monitoring, preventing 15 major cyberattacks, and resulting in zero security breaches.\n",
    "  - Launched an industry-first AI tool for predictive maintenance, reducing equipment downtime by 25% across all client facilities.\n",
    "  - Budget: $180,000, Revenue Generated: $500,000\n",
    "  - Key Metrics: 10% reduction in client operational costs, 30% reduction in downtime, 3 industry awards won.\n",
    "\n",
    "- Q4:\n",
    "  - Conducted large-scale user testing and feedback analysis, leading to 85 actionable insights that shaped the final product versions.\n",
    "  - Initiated a cross-department collaboration initiative to integrate AI insights into all business units.\n",
    "  - Budget: $95,000, Revenue Generated: $450,000\n",
    "  - Key Metrics: 90% client retention rate, 10% improvement in overall product usability, 5 new industry certifications earned.\n",
    "\n",
    "Financial Overview:\n",
    "- Total R&D Budget for 2023: $610,000\n",
    "- Total Revenue Generated from R&D Products: $1.7 Million\n",
    "- Gross Margin from R&D Projects: 45%\n",
    "- Estimated Total Cost Savings for Clients from R&D Initiatives: $2.5 Million\n",
    "- Projected Revenue Growth in 2024 from R&D Innovations: 18%\n",
    "\n",
    "Strategic Overview:\n",
    "- The AI-powered tools developed in 2023 are expected to reduce client operational costs by 15% across all sectors.\n",
    "- Long-term forecast suggests a 20% improvement in overall efficiency for clients utilizing Phoenix's R&D products by 2025.\n",
    "\"\"\""
   ]
  },
  {
   "cell_type": "code",
   "execution_count": 55,
   "metadata": {},
   "outputs": [],
   "source": [
    "rag_prompt = ChatPromptTemplate.from_messages([\n",
    "    (\"system\", \n",
    "     \"You are a highly skilled AI assistant specialized in advanced business analysis, forecasting, and financial modeling. Utilize the provided context to generate comprehensive, data-driven insights, perform complex calculations, and offer strategic recommendations based on the available information:\\n\\n{context}\"),\n",
    "    (\"human\", \n",
    "     \"Considering the data provided, please answer the following multi-faceted question with detailed analysis and reasoning:\\n\\n{question}\")\n",
    "])"
   ]
  },
  {
   "cell_type": "code",
   "execution_count": 56,
   "metadata": {},
   "outputs": [],
   "source": [
    "rag_chain = rag_prompt | llm | StrOutputParser()"
   ]
  },
  {
   "cell_type": "code",
   "execution_count": 57,
   "metadata": {},
   "outputs": [],
   "source": [
    "result = rag_chain.invoke({\"context\": SOURCE_RAG_EXP1, \"question\": \"Considering Phoenix's 2023 R&D performance and financial metrics, calculate the ROI for each quarter, identify the quarter with the highest ROI, and explain the factors contributing to the most successful quarter. Additionally, evaluate the long-term strategic impact of the AI-powered tools developed, including projected efficiency gains and revenue growth. How would these metrics shape Phoenix's strategic decisions for 2024?\"})"
   ]
  },
  {
   "cell_type": "code",
   "execution_count": 58,
   "metadata": {},
   "outputs": [
    {
     "name": "stdout",
     "output_type": "stream",
     "text": [
      "Okay, let's break down Phoenix Inc.'s 2023 R&D performance and formulate strategic recommendations for 2024.\n",
      "\n",
      "**1. ROI Calculation and Analysis by Quarter:**\n",
      "\n",
      "ROI (Return on Investment) is calculated as:  `ROI = ((Revenue Generated - Budget) / Budget) * 100`\n",
      "\n",
      "*   **Q1:**\n",
      "    *   Budget: $125,000\n",
      "    *   Revenue: $300,000\n",
      "    *   ROI: (($300,000 - $125,000) / $125,000) * 100 = **140%**\n",
      "\n",
      "*   **Q2:**\n",
      "    *   Budget: $210,000\n",
      "    *   Revenue: $450,000\n",
      "    *   ROI: (($450,000 - $210,000) / $210,000) * 100 = **114.29%**\n",
      "\n",
      "*   **Q3:**\n",
      "    *   Budget: $180,000\n",
      "    *   Revenue: $500,000\n",
      "    *   ROI: (($500,000 - $180,000) / $180,000) * 100 = **177.78%**\n",
      "\n",
      "*   **Q4:**\n",
      "    *   Budget: $95,000\n",
      "    *   Revenue: $450,000\n",
      "    *   ROI: (($450,000 - $95,000) / $95,000) * 100 = **373.68%**\n",
      "\n",
      "**Conclusion:** Q4 has the highest ROI at 373.68%.\n",
      "\n",
      "**2. Factors Contributing to the Most Successful Quarter (Q4):**\n",
      "\n",
      "Q4's exceptional ROI can be attributed to several factors:\n",
      "\n",
      "*   **Lower Budget:** Q4 had the lowest budget of all quarters ($95,000). This means that even a moderate revenue generation resulted in a significantly higher ROI.\n",
      "*   **Focus on User Testing and Integration:** The activities in Q4 focused on user testing, feedback analysis, and cross-department collaboration.  These activities are crucial for refining existing products and integrating AI insights across the business, rather than developing entirely new products. This implies leveraging prior R&D investments for broader impact.\n",
      "*   **High Client Retention:** Q4 achieved a 90% client retention rate, indicating strong customer satisfaction and the effectiveness of previous R&D efforts. Retaining clients is generally more cost-effective than acquiring new ones, contributing to higher profitability.\n",
      "*   **Improved Product Usability:** A 10% improvement in product usability suggests that previous R&D investments are paying off in terms of user experience, driving adoption and value for clients.\n",
      "\n",
      "In essence, Q4’s success stemmed from *efficiently capitalizing on prior innovations* through refinement, integration, and strong customer relationships, rather than solely focusing on new product development.\n",
      "\n",
      "**3. Long-Term Strategic Impact of AI-Powered Tools:**\n",
      "\n",
      "*   **Projected Efficiency Gains:** The data indicates a projected 15% reduction in client operational costs in 2023, escalating to a 20% improvement in overall efficiency by 2025.  This demonstrates a significant and growing impact of Phoenix's AI-powered tools.\n",
      "*   **Revenue Growth:**  A projected 18% revenue growth in 2024 from R&D innovations further underscores the positive strategic impact.\n",
      "*   **Client Cost Savings:** Estimated total cost savings for clients from R&D initiatives is $2.5 Million.\n",
      "\n",
      "**Quantifying the Impact:** Let's project the impact of these efficiency gains and revenue growth.\n",
      "\n",
      "*   **Efficiency Gains:** A 20% efficiency gain for clients translates to substantial cost savings and potentially increased productivity. This makes Phoenix's solutions highly attractive and strengthens client relationships.\n",
      "\n",
      "**4. Shaping Strategic Decisions for 2024:**\n",
      "\n",
      "Based on the 2023 performance, Phoenix should consider the following strategic decisions for 2024:\n",
      "\n",
      "*   **Prioritize Product Refinement and Integration:**  Q4's success highlights the importance of refining existing products and integrating them across the business. Allocate a significant portion of the 2024 R&D budget to user feedback analysis, usability improvements, and cross-departmental integration initiatives.  This approach is more cost-effective than solely focusing on new product development and yields high returns.\n",
      "*   **Focus on Client Retention and Upselling:**  Maintain the high client retention rate achieved in Q4 by proactively addressing client needs and offering upselling opportunities based on the AI-powered tools. Invest in client success programs and account management to foster long-term relationships.\n",
      "*   **Allocate Budget Strategically:** While new innovation is important, the data suggests that optimizing and deploying existing innovations provides a strong ROI. Therefore, consider a budget allocation that prioritizes refinement, integration, and client success over purely exploratory research. A potential budget allocation could be:\n",
      "    *   40% - Product Refinement and Integration\n",
      "    *   30% - New Product Development\n",
      "    *   20% - Client Success and Support\n",
      "    *   10% - Exploratory Research\n",
      "*   **Leverage Strategic Partnerships:** The two strategic partnerships initiated in Q2 should be leveraged to expand market reach and access new technologies. Explore additional partnership opportunities to accelerate innovation and market penetration.\n",
      "*   **Monitor and Measure Key Metrics:**  Continue to track key metrics such as client operational cost reductions, downtime reductions, client retention rates, and product usability improvements. These metrics provide valuable insights into the effectiveness of R&D initiatives and inform future strategic decisions.\n",
      "*   **Capitalize on Industry Recognition:** The three industry awards won in Q3 should be leveraged for marketing and public relations efforts to enhance brand reputation and attract new clients. Highlight the success stories of clients who have benefited from Phoenix's AI-powered solutions.\n",
      "*   **Data-Driven Decision Making:** Continue the trend of using AI-powered analytics tools to make informed decisions, both internally and for clients. This demonstrates the value of Phoenix's core competency and drives competitive advantage.\n",
      "\n",
      "**In summary, Phoenix Inc. should strategically focus on maximizing the impact of its existing AI-powered tools in 2024 through refinement, integration, and strong client relationships. By allocating resources strategically and leveraging key metrics, Phoenix can sustain revenue growth, improve client efficiency, and solidify its position as a leader in AI-driven solutions.**\n"
     ]
    }
   ],
   "source": [
    "print(result)"
   ]
  },
  {
   "cell_type": "markdown",
   "metadata": {},
   "source": [
    "Okay, let's break down Phoenix Inc.'s 2023 R&D performance and formulate strategic recommendations for 2024.\n",
    "\n",
    "**1. ROI Calculation and Analysis by Quarter:**\n",
    "\n",
    "ROI (Return on Investment) is calculated as:  `ROI = ((Revenue Generated - Budget) / Budget) * 100`\n",
    "\n",
    "*   **Q1:**\n",
    "    *   Budget: $125,000\n",
    "    *   Revenue: $300,000\n",
    "    *   ROI: (($300,000 - $125,000) / $125,000) * 100 = **140%**\n",
    "\n",
    "*   **Q2:**\n",
    "    *   Budget: $210,000\n",
    "    *   Revenue: $450,000\n",
    "    *   ROI: (($450,000 - $210,000) / $210,000) * 100 = **114.29%**\n",
    "\n",
    "*   **Q3:**\n",
    "    *   Budget: $180,000\n",
    "    *   Revenue: $500,000\n",
    "    *   ROI: (($500,000 - $180,000) / $180,000) * 100 = **177.78%**\n",
    "\n",
    "*   **Q4:**\n",
    "    *   Budget: $95,000\n",
    "    *   Revenue: $450,000\n",
    "    *   ROI: (($450,000 - $95,000) / $95,000) * 100 = **373.68%**\n",
    "...\n",
    "*   **Capitalize on Industry Recognition:** The three industry awards won in Q3 should be leveraged for marketing and public relations efforts to enhance brand reputation and attract new clients. Highlight the success stories of clients who have benefited from Phoenix's AI-powered solutions.\n",
    "*   **Data-Driven Decision Making:** Continue the trend of using AI-powered analytics tools to make informed decisions, both internally and for clients. This demonstrates the value of Phoenix's core competency and drives competitive advantage.\n",
    "\n",
    "**In summary, Phoenix Inc. should strategically focus on maximizing the impact of its existing AI-powered tools in 2024 through refinement, integration, and strong client relationships. By allocating resources strategically and leveraging key metrics, Phoenix can sustain revenue growth, improve client efficiency, and solidify its position as a leader in AI-driven solutions.**"
   ]
  },
  {
   "cell_type": "code",
   "execution_count": null,
   "metadata": {},
   "outputs": [],
   "source": []
  }
 ],
 "metadata": {
  "kernelspec": {
   "display_name": "Python 3",
   "language": "python",
   "name": "python3"
  },
  "language_info": {
   "codemirror_mode": {
    "name": "ipython",
    "version": 3
   },
   "file_extension": ".py",
   "mimetype": "text/x-python",
   "name": "python",
   "nbconvert_exporter": "python",
   "pygments_lexer": "ipython3",
   "version": "3.12.5"
  }
 },
 "nbformat": 4,
 "nbformat_minor": 2
}
